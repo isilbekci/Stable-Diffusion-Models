{
  "nbformat": 4,
  "nbformat_minor": 0,
  "metadata": {
    "colab": {
      "provenance": []
    },
    "kernelspec": {
      "name": "python3",
      "display_name": "Python 3"
    },
    "language_info": {
      "name": "python"
    }
  },
  "cells": [
    {
      "cell_type": "markdown",
      "source": [
        "# What is Stable Diffusion?\n",
        "\n",
        "**Stable Diffusion** is a generative AI model that uses a *latent diffusion process* to transform text descriptions into high-quality images. This model operates by iteratively refining an image that starts as random noise, guided by the semantics of the input prompt.\n",
        "\n",
        "The model is based on *Diffusion Probabilistic Models*, where the generation process involves two main stages:\n",
        "1. **Forward Diffusion** - Noise is progressively added to an image through a Markov process, gradually destroying its structure.\n",
        "2. **Reverse Diffusion** - The model then learns to reverse this noise addition, reconstructing the image step-by-step based on the provided text prompt.\n",
        "\n",
        "Stable Diffusion specifically leverages a *Variational Autoencoder (VAE)* to encode images into a latent space, allowing it to work efficiently on lower-dimensional representations. Combined with a *U-Net* architecture and *Transformer-based text encoder* (from CLIP or similar models), Stable Diffusion achieves coherent and semantically rich images that align closely with the text input.\n",
        "\n",
        "This architecture not only enables high-quality image generation but also provides flexibility to adapt the model for various visual styles, making it ideal for applications in art, design, and visualization.\n"
      ],
      "metadata": {
        "id": "s9EP__COExZk"
      }
    },
    {
      "cell_type": "markdown",
      "source": [
        "# Collection of Popular and Recent Stable Diffusion Models\n",
        "\n",
        "This notebook compiles some of the latest and most popular Stable Diffusion models, offering a unique opportunity to experiment with each one. These models are fine-tuned for different artistic styles and purposes, ranging from photorealistic imagery to anime and fantasy art. Users can explore each model to see how they handle various prompts and visualize creative ideas in diverse styles.\n"
      ],
      "metadata": {
        "id": "4b5ZV0inGk81"
      }
    },
    {
      "cell_type": "markdown",
      "source": [
        "# About Stable Diffusion 2.1\n",
        "\n",
        "**Stable Diffusion 2.1** is an advanced version of the original Stable Diffusion model developed by Stability AI. This model improves upon previous versions by offering higher-quality, more detailed image generation capabilities, especially in realistic scenes.\n",
        "\n",
        "### Key Features\n",
        "- **Enhanced Realism**: Stable Diffusion 2.1 is fine-tuned to produce photorealistic images, making it ideal for scenes that demand high levels of detail, like landscapes, portraits, and close-up textures.\n",
        "- **Improved Handling of Lighting and Shadows**: This version includes advancements in rendering lighting, shadows, and textures, allowing it to capture intricate details in complex scenes such as sunsets, reflections, and atmospheric effects.\n",
        "- **Versatile for Multiple Styles**: While it excels at realism, Stable Diffusion 2.1 is versatile enough to adapt to a range of artistic styles, from highly realistic to semi-realistic compositions, depending on the input prompt.\n",
        "\n",
        "### Use Cases\n",
        "Stable Diffusion 2.1 is widely used in applications where quality and realism are paramount. It’s especially popular in areas such as:\n",
        "- **Photorealistic Art and Concept Design**: Perfect for realistic landscape scenes, environmental art, and concept work that require detailed textures and natural lighting.\n",
        "- **Content Creation for Media and Marketing**: Useful in producing high-quality visuals for advertisements, media posts, and branding where a real-world look is essential.\n",
        "- **Creative Experimentation**: Allows artists and designers to explore diverse styles while achieving a consistently high-quality output.\n",
        "\n",
        "This model is designed for both professionals and enthusiasts looking to achieve true-to-life results while experimenting with artistic prompts in Stable Diffusion.\n"
      ],
      "metadata": {
        "id": "C-85GvjXG9_e"
      }
    },
    {
      "cell_type": "code",
      "execution_count": null,
      "metadata": {
        "id": "vyl1lbEECN8s"
      },
      "outputs": [],
      "source": [
        "!pip install diffusers transformers accelerate matplotlib\n",
        "\n",
        "import torch\n",
        "from diffusers import StableDiffusionPipeline\n",
        "from huggingface_hub import login\n",
        "import matplotlib.pyplot as plt\n",
        "\n",
        "login(token=\"CHANGE THIS PART WITH YOUR HUGGING FACE TOKEN\")\n",
        "\n",
        "model_id = \"stabilityai/stable-diffusion-2-1\"\n",
        "pipe = StableDiffusionPipeline.from_pretrained(model_id, torch_dtype=torch.float16)\n",
        "pipe = pipe.to(\"cuda\")\n",
        "\n",
        "def generate_image(prompt):\n",
        "    with torch.autocast(\"cuda\"):\n",
        "        image = pipe(prompt).images[0]\n",
        "    return image\n",
        "\n",
        "prompt = \"a serene beach at sunrise with gentle waves and a pink-orange sky, photo-realistic, detailed sand textures\"\n",
        "image = generate_image(prompt)\n",
        "\n",
        "plt.imshow(image)\n",
        "plt.axis('off')\n",
        "plt.show()"
      ]
    },
    {
      "cell_type": "markdown",
      "source": [
        "# About Stable Diffusion v1-4\n",
        "\n",
        "**Stable Diffusion v1-4** is one of the earlier versions in the Stable Diffusion series, created by the CompVis team. Despite being an older version, it remains popular for its balance between quality and computational efficiency, making it a versatile option for generating high-quality images without the need for extensive computing resources.\n",
        "\n",
        "### Key Features\n",
        "- **Balanced Quality and Speed**: Stable Diffusion v1-4 generates visually appealing images quickly, ideal for experimentation or projects where a fast output is needed.\n",
        "- **Wide Range of Styles**: This model performs well across a variety of styles, from realistic landscapes to futuristic and fantasy scenes, especially when paired with creative prompts.\n",
        "- **Efficient for Smaller Systems**: Compared to later versions, v1-4 requires slightly less memory and computing power, making it accessible for users with standard GPUs.\n",
        "\n",
        "### Use Cases\n",
        "Stable Diffusion v1-4 is widely used for applications that balance quality with efficiency, such as:\n",
        "- **Concept Art and Design**: Ideal for early-stage concepts where multiple quick iterations are needed to explore ideas and visual styles.\n",
        "- **Creative Visualization**: Perfect for generating imaginative scenes, such as futuristic cities, fantasy landscapes, or abstract art, while maintaining good visual fidelity.\n",
        "- **Prototyping for Media Projects**: Often used by creators who want high-quality visuals without long processing times, suitable for social media content, branding, and prototyping.\n",
        "\n",
        "Stable Diffusion v1-4 offers a solid foundation for both new and experienced users, providing reliable output quality while still being adaptable for various artistic applications.\n"
      ],
      "metadata": {
        "id": "lIioGxbuHKgM"
      }
    },
    {
      "cell_type": "code",
      "source": [
        "!pip install diffusers transformers torch\n",
        "!pip install xformers\n",
        "\n",
        "from diffusers import StableDiffusionPipeline\n",
        "import torch\n",
        "from PIL import Image\n",
        "import IPython.display as display\n",
        "\n",
        "model_id = \"CompVis/stable-diffusion-v1-4\"\n",
        "pipe = StableDiffusionPipeline.from_pretrained(model_id, torch_dtype=torch.float16)\n",
        "pipe = pipe.to(\"cuda\")\n",
        "\n",
        "prompt = \"a futuristic city skyline at sunset with flying cars and neon lights\"\n",
        "image = pipe(prompt).images[0]\n",
        "\n",
        "image.save(\"generated_image.png\")\n",
        "\n",
        "display.display(image)"
      ],
      "metadata": {
        "id": "gZIzhogICRzQ"
      },
      "execution_count": null,
      "outputs": []
    },
    {
      "cell_type": "markdown",
      "source": [
        "# About Stable Diffusion v1-5\n",
        "\n",
        "**Stable Diffusion v1-5** is an improved version of the earlier Stable Diffusion models, developed with better fine-tuning to achieve higher detail and realism. Created by the runwayml team, this model is particularly known for enhancing texture, color, and depth, making it ideal for visually rich scenes and detailed compositions.\n",
        "\n",
        "### Key Features\n",
        "- **Enhanced Detail and Realism**: Stable Diffusion v1-5 excels in producing images with more defined textures, richer colors, and improved visual depth. These enhancements make it perfect for scenes with natural elements, like landscapes or intricate backgrounds.\n",
        "- **Optimized for Realism**: While it can still adapt to imaginative prompts, v1-5 is highly suitable for realistic outputs, delivering results with lifelike quality in terms of lighting and texture.\n",
        "- **Efficient on GPUs**: v1-5 has been optimized for performance on standard GPUs, making it accessible for users who want quality without excessive computational requirements.\n",
        "\n",
        "### Use Cases\n",
        "Stable Diffusion v1-5 is widely used in applications requiring realism and rich detail, including:\n",
        "- **Natural Landscapes and Scenic Visuals**: Ideal for creating beautiful, nature-focused scenes, such as tranquil forests, mountains, rivers, and detailed environments.\n",
        "- **Concept Art and World-Building**: Great for projects needing a high level of detail in background settings, including fantasy and sci-fi environments with natural elements.\n",
        "- **Photorealistic Experimentation**: Suitable for artists and creators who want to experiment with photorealistic imagery without needing high-end hardware.\n",
        "\n",
        "Stable Diffusion v1-5 combines the flexibility of earlier models with greater realism, making it a versatile choice for users interested in high-quality, natural, and scenic images.\n"
      ],
      "metadata": {
        "id": "UiM-Zc4EHSJH"
      }
    },
    {
      "cell_type": "code",
      "source": [
        "!pip install diffusers transformers torch\n",
        "!pip install xformers\n",
        "\n",
        "from diffusers import StableDiffusionPipeline\n",
        "import torch\n",
        "from PIL import Image\n",
        "import IPython.display as display\n",
        "\n",
        "model_id = \"runwayml/stable-diffusion-v1-5\"\n",
        "\n",
        "pipe = StableDiffusionPipeline.from_pretrained(model_id, torch_dtype=torch.float16)\n",
        "pipe = pipe.to(\"cuda\")\n",
        "\n",
        "prompt = \"a tranquil forest with a river and mountains in the background at sunrise\"\n",
        "image = pipe(prompt).images[0]\n",
        "\n",
        "image.save(\"generated_image_v1_5.png\")\n",
        "\n",
        "display.display(image)"
      ],
      "metadata": {
        "id": "WaRtrXfgCVGC"
      },
      "execution_count": null,
      "outputs": []
    },
    {
      "cell_type": "markdown",
      "source": [
        "# About Dreamlike Photoreal 2.0\n",
        "\n",
        "**Dreamlike Photoreal 2.0** is a specialized variant of Stable Diffusion designed to produce hyper-realistic images with an artistic touch. Developed by dreamlike-art, this model merges photorealism with subtle, artistic enhancements, making it perfect for generating natural scenes that are both realistic and aesthetically captivating.\n",
        "\n",
        "### Key Features\n",
        "- **Hyper-Realism with Artistic Flair**: Dreamlike Photoreal 2.0 excels at producing images that look highly realistic while incorporating a hint of creative stylization, making each output visually compelling.\n",
        "- **Enhanced Depth and Atmosphere**: This model is particularly adept at capturing atmospheric elements, such as mist, light diffusion, and soft gradients, which add a unique mood to scenes.\n",
        "- **Ideal for Nature and Scenic Photography**: The model shines in creating scenes of natural beauty, including forests, landscapes, and seascapes, where detailed textures and realistic lighting are essential.\n",
        "\n",
        "### Use Cases\n",
        "Dreamlike Photoreal 2.0 is well-suited for scenarios where a blend of realism and artistry is desired, including:\n",
        "- **Nature and Landscape Art**: Ideal for generating forest scenes, mountains, rivers, and other natural landscapes with a touch of ambiance and mood.\n",
        "- **Photorealistic Art Projects**: Great for artists and designers who want to create lifelike visuals with a bit of creative stylization, adding depth and atmosphere to their work.\n",
        "- **Concept Design and Digital Art**: Often used in concept design to explore realistic environments with artistic enhancements, useful in games, films, and digital storytelling.\n",
        "\n",
        "Dreamlike Photoreal 2.0 combines the best of both worlds—photorealism and artistic expression—making it a versatile tool for creating high-quality, evocative visuals.\n"
      ],
      "metadata": {
        "id": "0ifC8eBwHiyz"
      }
    },
    {
      "cell_type": "code",
      "source": [
        "!pip install diffusers transformers torch\n",
        "!pip install xformers\n",
        "\n",
        "from diffusers import StableDiffusionPipeline\n",
        "import torch\n",
        "from PIL import Image\n",
        "import IPython.display as displa\n",
        "\n",
        "model_id = \"dreamlike-art/dreamlike-photoreal-2.0\"\n",
        "\n",
        "pipe = StableDiffusionPipeline.from_pretrained(model_id, torch_dtype=torch.float16)\n",
        "pipe = pipe.to(\"cuda\")\n",
        "\n",
        "prompt = \"a hyper-realistic photograph of a misty forest in the morning light\"\n",
        "image = pipe(prompt).images[0]\n",
        "\n",
        "image.save(\"generated_image_dreamlike.png\")\n",
        "\n",
        "display.display(image)"
      ],
      "metadata": {
        "id": "6xPSQEDVCYL6"
      },
      "execution_count": null,
      "outputs": []
    },
    {
      "cell_type": "markdown",
      "source": [
        "# About OpenJourney\n",
        "\n",
        "**OpenJourney** is a creative variation of the Stable Diffusion model designed to generate images with an artistic and imaginative flair. Developed by prompthero, this model can handle a wide range of styles, making it suitable for fantasy, surreal, and illustrative content. It is particularly adept at creating visually captivating scenes with strong thematic elements, ideal for storytelling or concept art.\n",
        "\n",
        "### Key Features\n",
        "- **Artistic and Imaginative Outputs**: OpenJourney is tuned to produce art that is both creative and visually rich, allowing users to generate scenes with fantasy, medieval, and otherworldly elements.\n",
        "- **Versatile Style Adaptability**: The model is capable of blending realistic and stylized aesthetics, making it flexible for creating everything from fantasy landscapes to semi-realistic character designs.\n",
        "- **Focused on Visual Storytelling**: The generated images are often highly atmospheric and detailed, making OpenJourney a strong choice for concept art, game design, and visual narratives.\n",
        "\n",
        "### Use Cases\n",
        "OpenJourney is particularly useful for projects requiring a blend of realism and fantasy, such as:\n",
        "- **Fantasy and Sci-Fi Art**: Perfect for visualizing medieval castles, enchanted forests, surreal landscapes, and other imaginative scenes.\n",
        "- **Concept Art and World-Building**: Great for developing creative worlds, characters, and environments in storytelling, gaming, and film.\n",
        "- **Illustrative Art and Graphic Design**: Works well for unique, stylized illustrations that mix realistic and fantastical elements, suitable for cover art, posters, and graphic design projects.\n",
        "\n",
        "OpenJourney combines the strength of detailed realism with imaginative styling, offering creators a versatile tool for producing high-quality, conceptually rich visuals.\n"
      ],
      "metadata": {
        "id": "MjTqTtgcHr1-"
      }
    },
    {
      "cell_type": "code",
      "source": [
        "!pip install diffusers transformers torch\n",
        "!pip install xformers\n",
        "\n",
        "from diffusers import StableDiffusionPipeline\n",
        "import torch\n",
        "from PIL import Image\n",
        "import IPython.display as display\n",
        "\n",
        "model_id = \"prompthero/openjourney\"\n",
        "\n",
        "pipe = StableDiffusionPipeline.from_pretrained(model_id, torch_dtype=torch.float16)\n",
        "pipe = pipe.to(\"cuda\")\n",
        "\n",
        "prompt = \"a beautiful medieval castle surrounded by a dense forest under a stormy sky\"\n",
        "image = pipe(prompt).images[0]\n",
        "\n",
        "image.save(\"generated_image_openjourney.png\")\n",
        "\n",
        "display.display(image)"
      ],
      "metadata": {
        "id": "1zMbcIfmCcDf"
      },
      "execution_count": null,
      "outputs": []
    },
    {
      "cell_type": "markdown",
      "source": [
        "# About Arcane Diffusion\n",
        "\n",
        "**Arcane Diffusion** is a unique Stable Diffusion variant specifically trained to create stylized, fantasy-themed images, particularly in the style of anime and fantasy illustrations. Developed by nitrosocke, this model excels at generating vivid, detailed, and character-focused scenes that reflect a vibrant, animated aesthetic.\n",
        "\n",
        "### Key Features\n",
        "- **Anime and Fantasy Art Style**: Arcane Diffusion is fine-tuned to produce images with a strong anime and fantasy influence, perfect for character-focused art, including heroes, mythical creatures, and enchanted landscapes.\n",
        "- **Bold Colors and Sharp Details**: This model is optimized for bold, vivid colors and intricate details that bring scenes to life, especially in fantasy and adventure contexts.\n",
        "- **Ideal for Stylized Visuals**: Arcane Diffusion captures a distinct illustrative look, making it suitable for designs that blend realism with anime and graphic novel aesthetics.\n",
        "\n",
        "### Use Cases\n",
        "Arcane Diffusion is a popular choice for users interested in anime-style illustrations and fantasy art, including:\n",
        "- **Character Art and Design**: Ideal for creating character concepts with anime-style features and dramatic visual effects, such as glowing eyes, magical elements, and detailed armor.\n",
        "- **Fantasy Landscapes and Environments**: Great for generating enchanted forests, mystical lands, and imaginative worlds that require an illustrated look.\n",
        "- **Illustrative and Concept Art**: Suitable for creating poster art, book covers, or concept art that blends realism with stylized anime-inspired visuals.\n",
        "\n",
        "Arcane Diffusion provides creators with a specialized tool for producing high-quality, fantasy-themed artwork with an anime flair, making it perfect for projects in game design, comics, and animation.\n"
      ],
      "metadata": {
        "id": "3QVqoDSMHzib"
      }
    },
    {
      "cell_type": "code",
      "source": [
        "!pip install diffusers transformers torch\n",
        "!pip install xformers\n",
        "\n",
        "from diffusers import StableDiffusionPipeline\n",
        "import torch\n",
        "from PIL import Image\n",
        "import IPython.display as display\n",
        "\n",
        "model_id = \"nitrosocke/Arcane-Diffusion\"\n",
        "\n",
        "pipe = StableDiffusionPipeline.from_pretrained(model_id, torch_dtype=torch.float16)\n",
        "pipe = pipe.to(\"cuda\")\n",
        "\n",
        "prompt = \"a warrior with glowing blue eyes in an enchanted forest, in the style of an anime fantasy illustration\"\n",
        "image = pipe(prompt).images[0]\n",
        "\n",
        "image.save(\"generated_image_arcane.png\")\n",
        "\n",
        "display.display(image)"
      ],
      "metadata": {
        "id": "2l91Z6q-Cgqi"
      },
      "execution_count": null,
      "outputs": []
    },
    {
      "cell_type": "markdown",
      "source": [
        "# About Waifu Diffusion\n",
        "\n",
        "**Waifu Diffusion** is a specialized version of Stable Diffusion focused on producing anime and manga-style artwork, particularly in the character art domain. Developed by hakurei, this model is fine-tuned to generate high-quality images that reflect the vibrant and stylistic features characteristic of anime, making it ideal for fans and creators of Japanese-style illustrations.\n",
        "\n",
        "### Key Features\n",
        "- **Optimized for Anime and Manga Aesthetics**: Waifu Diffusion excels at generating anime-style characters, with details such as expressive eyes, colorful hair, and the distinct linework typical of Japanese animation and illustrations.\n",
        "- **High Detail in Character Art**: This model is particularly suited for creating character-focused images, with high attention to detail in elements like clothing, hair, and facial expressions.\n",
        "- **Vibrant and Soft Color Palettes**: Waifu Diffusion is fine-tuned to capture the color vibrancy and soft shading often found in anime, making it perfect for visually appealing, colorful compositions.\n",
        "\n",
        "### Use Cases\n",
        "Waifu Diffusion is ideal for projects that require anime-style visuals, including:\n",
        "- **Character Art and Portraits**: Perfect for generating character concepts, especially popular for creating fan art or original characters in an anime style.\n",
        "- **Manga and Comic Illustration**: Great for creating panels, character designs, and scene illustrations that emulate manga and anime aesthetics.\n",
        "- **Digital Art and Community Content**: Useful for creating profile pictures, banners, and other digital artwork within anime fandoms or online communities.\n",
        "\n",
        "Waifu Diffusion provides anime enthusiasts and creators with a tailored tool for generating high-quality, stylistically accurate anime and manga artwork, ideal for both fan art and original character creation.\n"
      ],
      "metadata": {
        "id": "mhwvbxCtH8Bv"
      }
    },
    {
      "cell_type": "code",
      "source": [
        "!pip install diffusers transformers torch\n",
        "!pip install xformers\n",
        "\n",
        "from diffusers import StableDiffusionPipeline\n",
        "import torch\n",
        "from PIL import Image\n",
        "import IPython.display as display\n",
        "\n",
        "model_id = \"hakurei/waifu-diffusion\"\n",
        "\n",
        "pipe = StableDiffusionPipeline.from_pretrained(model_id, torch_dtype=torch.float16)\n",
        "pipe = pipe.to(\"cuda\")\n",
        "\n",
        "prompt = \"a beautiful girl with long silver hair standing under cherry blossom trees\"\n",
        "image = pipe(prompt).images[0]\n",
        "\n",
        "image.save(\"generated_image_waifu.png\")\n",
        "\n",
        "display.display(image)"
      ],
      "metadata": {
        "id": "JKwLoJnMC0Oq"
      },
      "execution_count": null,
      "outputs": []
    },
    {
      "cell_type": "markdown",
      "source": [
        "# About Anything V3\n",
        "\n",
        "**Anything V3** is a versatile Stable Diffusion variant specifically fine-tuned to generate anime-style images while also being flexible enough to handle a range of other visual styles. Developed by Linaqruf, this model has become popular for its adaptability and the quality of its anime and manga-style output. It is a great choice for users who want to experiment with both traditional anime aesthetics and more realistic or abstract interpretations within the same model.\n",
        "\n",
        "### Key Features\n",
        "- **High-Quality Anime Generation**: Anything V3 is optimized to create images with the stylistic features of anime, including detailed characters, vibrant landscapes, and fantastical settings.\n",
        "- **Flexible in Style**: While focused on anime, this model can also produce semi-realistic and abstract images, making it a versatile choice for various creative applications.\n",
        "- **Enhanced Detail and Composition**: Known for its ability to capture detailed elements, Anything V3 is ideal for complex scenes that require rich backgrounds, dramatic lighting, and intricate settings.\n",
        "\n",
        "### Use Cases\n",
        "Anything V3 is widely used for anime-style and fantasy artwork, but its flexibility allows for diverse applications:\n",
        "- **Anime and Manga Illustrations**: Excellent for character and scene creation in an anime or manga aesthetic, including fantasy and adventure themes.\n",
        "- **Fantasy and Concept Art**: Suitable for producing detailed landscapes, cityscapes, and other concept art with a hint of anime influence, perfect for game and story world-building.\n",
        "- **Experimental Art Styles**: Capable of handling prompts that go beyond anime, making it useful for artists who want to explore different visual effects and hybrid styles.\n",
        "\n",
        "Anything V3 offers artists and anime enthusiasts a powerful tool for producing high-quality, stylistically rich visuals that range from classic anime to more experimental styles, catering to a variety of artistic needs.\n"
      ],
      "metadata": {
        "id": "tXbTVijiIEEw"
      }
    },
    {
      "cell_type": "code",
      "source": [
        "!pip install diffusers transformers torch\n",
        "!pip install xformers\n",
        "\n",
        "from diffusers import StableDiffusionPipeline\n",
        "import torch\n",
        "from PIL import Image\n",
        "import IPython.display as display\n",
        "\n",
        "model_id = \"Linaqruf/anything-v3.0\"\n",
        "\n",
        "pipe = StableDiffusionPipeline.from_pretrained(model_id, torch_dtype=torch.float16)\n",
        "pipe = pipe.to(\"cuda\")\n",
        "\n",
        "prompt = \"a fantastic landscape with mountains, castles, and a glowing sunset in an anime style\"\n",
        "image = pipe(prompt).images[0]\n",
        "\n",
        "image.save(\"generated_image_anything_v3.png\")\n",
        "\n",
        "display.display(image)"
      ],
      "metadata": {
        "id": "OxfooYnrDz9s"
      },
      "execution_count": null,
      "outputs": []
    },
    {
      "cell_type": "markdown",
      "source": [
        "# About Realistic Vision V1.4\n",
        "\n",
        "**Realistic Vision V1.4** is a Stable Diffusion model specifically fine-tuned to create highly realistic, photo-quality images. Developed by SG161222, this model is known for its ability to capture natural details, textures, and lighting, making it ideal for generating lifelike landscapes, portraits, and other photorealistic visuals.\n",
        "\n",
        "### Key Features\n",
        "- **High-Resolution Photorealism**: Realistic Vision V1.4 is optimized for creating clear, high-resolution images with intricate details and realistic lighting, making scenes look as close to real photographs as possible.\n",
        "- **Perfect for Natural Landscapes**: The model excels in producing images of natural settings, such as mountains, lakes, forests, and beaches, where textures and depth are essential.\n",
        "- **Accurate Lighting and Shadows**: Realistic Vision V1.4 handles lighting and shadow effects well, allowing it to generate images with realistic sunrise, sunset, and atmospheric lighting conditions.\n",
        "\n",
        "### Use Cases\n",
        "Realistic Vision V1.4 is especially useful for applications requiring lifelike visuals, including:\n",
        "- **Landscape and Nature Photography**: Ideal for creating breathtaking, realistic landscapes and scenic nature views that feel immersive and authentic.\n",
        "- **Environmental Concept Art**: Useful for generating high-quality backgrounds and environmental scenes for games, films, and virtual worlds.\n",
        "- **Photography-Style Artwork**: Suitable for artists and designers who want to produce photo-style artwork for digital projects, media, and marketing.\n",
        "\n",
        "Realistic Vision V1.4 offers creators a reliable tool for generating true-to-life images, particularly for projects requiring nature and landscape visuals with photographic quality and realism.\n"
      ],
      "metadata": {
        "id": "mq0LGcUyIOe3"
      }
    },
    {
      "cell_type": "code",
      "source": [
        "!pip install diffusers transformers torch\n",
        "!pip install xformers\n",
        "\n",
        "from diffusers import StableDiffusionPipeline\n",
        "import torch\n",
        "from PIL import Image\n",
        "import IPython.display as display\n",
        "\n",
        "model_id = \"SG161222/Realistic_Vision_V1.4\"\n",
        "\n",
        "pipe = StableDiffusionPipeline.from_pretrained(model_id, torch_dtype=torch.float16)\n",
        "pipe = pipe.to(\"cuda\")\n",
        "\n",
        "prompt = \"a high-resolution photograph of a mountain lake surrounded by pine trees at sunrise\"\n",
        "image = pipe(prompt).images[0]\n",
        "\n",
        "image.save(\"generated_image_realistic_vision.png\")\n",
        "\n",
        "display.display(image)"
      ],
      "metadata": {
        "id": "Cs8ZUIFEEBw_"
      },
      "execution_count": null,
      "outputs": []
    },
    {
      "cell_type": "markdown",
      "source": [
        "# About Protogen x5.8\n",
        "\n",
        "**Protogen x5.8** is a high-resolution, realistic image generation model built on Stable Diffusion. Developed by darkstorm2150, this model is known for its impressive level of detail and its ability to create sharp, vibrant visuals that suit various artistic needs. Protogen x5.8 is particularly well-suited for complex scenes with intricate details, such as cyberpunk cityscapes, futuristic environments, and detailed character art.\n",
        "\n",
        "### Key Features\n",
        "- **High-Definition and Realistic Quality**: Protogen x5.8 is designed for producing images with rich detail, realistic textures, and dynamic lighting, making it ideal for scenes that require a high level of fidelity.\n",
        "- **Versatile Style Capabilities**: This model can create everything from cyberpunk and sci-fi scenes to fantasy landscapes, with the ability to handle diverse prompts and visual themes.\n",
        "- **Enhanced Detail in Complex Scenes**: Protogen x5.8 is optimized for scenes that contain a lot of details, such as cityscapes, futuristic settings, and intricate compositions with vibrant lighting.\n",
        "\n",
        "### Use Cases\n",
        "Protogen x5.8 is ideal for applications requiring vivid, detailed, and high-quality visuals, including:\n",
        "- **Sci-Fi and Cyberpunk Art**: Perfect for generating cyberpunk cityscapes, futuristic buildings, and advanced technology scenes with dynamic lighting and color contrasts.\n",
        "- **Fantasy and Concept Art**: Great for producing richly detailed fantasy landscapes, character portraits, and imaginative settings for storytelling or game design.\n",
        "- **Detailed Digital Art Projects**: Suitable for artists and designers working on projects that require high-quality, visually engaging content with a lot of texture and depth.\n",
        "\n",
        "Protogen x5.8 is a powerful tool for artists and designers looking to create complex, high-quality visuals with realistic detail and vibrant colors, ideal for both professional and creative digital art projects.\n"
      ],
      "metadata": {
        "id": "IxpINFdnIac3"
      }
    },
    {
      "cell_type": "code",
      "source": [
        "!pip install diffusers transformers torch\n",
        "!pip install xformers\n",
        "\n",
        "from diffusers import StableDiffusionPipeline\n",
        "import torch\n",
        "from PIL import Image\n",
        "import IPython.display as display\n",
        "\n",
        "model_id = \"darkstorm2150/Protogen_x5.8_Official_Release\"\n",
        "pipe = StableDiffusionPipeline.from_pretrained(model_id, torch_dtype=torch.float16)\n",
        "pipe = pipe.to(\"cuda\")\n",
        "\n",
        "prompt = \"a detailed cyberpunk cityscape at night with neon lights and flying cars\"\n",
        "image = pipe(prompt).images[0]\n",
        "\n",
        "image.save(\"generated_image_protogen_x5_8.png\")\n",
        "display.display(image)"
      ],
      "metadata": {
        "id": "4qTZovIVIarr"
      },
      "execution_count": null,
      "outputs": []
    },
    {
      "cell_type": "markdown",
      "source": [
        "# About OpenDiffusion\n",
        "\n",
        "**OpenDiffusion** is a Stable Diffusion variant by OpenArt designed to generate high-quality artistic images. This model specializes in capturing various artistic styles, such as impressionism, surrealism, and abstract art, making it highly suitable for creative and expressive visual outputs.\n",
        "\n",
        "### Key Features\n",
        "- **Artistic Style Flexibility**: OpenDiffusion is optimized for generating images in different artistic styles, allowing for expressive and creative outputs.\n",
        "- **Rich Textures and Bold Colors**: This model produces vibrant and textured visuals, ideal for artistic interpretations and imaginative scenes.\n",
        "- **Ideal for Digital Art and Illustrations**: OpenDiffusion is well-suited for illustrations, concept art, and stylistic experiments, making it popular among artists and creators.\n",
        "\n",
        "### Use Cases\n",
        "OpenDiffusion is widely used for projects requiring unique artistic visuals, including:\n",
        "- **Digital Art and Illustrations**: Perfect for generating images in impressionist, surrealist, or abstract styles.\n",
        "- **Concept Art and Visual Storytelling**: Great for creating imaginative scenes with a distinct artistic flair, ideal for concept art in games or film.\n",
        "- **Poster Art and Design**: Suitable for artists seeking to create eye-catching posters, cover art, or other visually engaging digital art projects.\n",
        "\n",
        "OpenDiffusion is a versatile model that offers artists and designers a powerful tool for creating high-quality, stylistically rich visuals across a variety of artistic genres.\n"
      ],
      "metadata": {
        "id": "yW3hRR79Iowl"
      }
    },
    {
      "cell_type": "code",
      "source": [
        "!pip install diffusers transformers torch\n",
        "!pip install xformers\n",
        "\n",
        "from diffusers import StableDiffusionPipeline\n",
        "import torch\n",
        "from PIL import Image\n",
        "import IPython.display as display\n",
        "\n",
        "model_id = \"CompVis/open-diffusion\"\n",
        "pipe = StableDiffusionPipeline.from_pretrained(model_id, torch_dtype=torch.float16)\n",
        "pipe = pipe.to(\"cuda\")\n",
        "\n",
        "prompt = \"an impressionist painting of a bustling city street at sunset\"\n",
        "image = pipe(prompt).images[0]\n",
        "\n",
        "image.save(\"generated_image_opendiffusion.png\")\n",
        "display.display(image)"
      ],
      "metadata": {
        "id": "PKvFWTWRIo69"
      },
      "execution_count": null,
      "outputs": []
    },
    {
      "cell_type": "markdown",
      "source": [
        "# About CyberRealistic\n",
        "\n",
        "**CyberRealistic** is a specialized Stable Diffusion model developed to create highly realistic and detailed cyberpunk-themed visuals. This model excels at generating futuristic cityscapes, advanced technology, and cyberpunk aesthetics with vivid lighting and intricate details, making it ideal for sci-fi and dystopian concepts.\n",
        "\n",
        "### Key Features\n",
        "- **High Detail and Realism**: CyberRealistic captures complex scenes with high accuracy, focusing on sharp details, vibrant lighting, and futuristic elements.\n",
        "- **Optimized for Cyberpunk and Sci-Fi Themes**: The model is fine-tuned to produce visuals that align with cyberpunk aesthetics, including neon lights, dark cityscapes, and advanced technology.\n",
        "- **Rich Lighting and Color Effects**: CyberRealistic is skilled at handling diverse lighting scenarios, especially nighttime scenes with neon colors and high contrasts.\n",
        "\n",
        "### Use Cases\n",
        "CyberRealistic is ideal for applications in sci-fi and futuristic concept design, such as:\n",
        "- **Cyberpunk and Sci-Fi Art**: Perfect for generating detailed cityscapes, advanced technology, and other cyberpunk-inspired visuals.\n",
        "- **Concept Art for Games and Film**: Useful for designing dystopian or futuristic environments for storytelling, world-building, and game assets.\n",
        "- **Digital Art and Illustrations**: Suitable for creating visually captivating digital art pieces, including posters, character backdrops, and scene illustrations.\n",
        "\n",
        "CyberRealistic provides a powerful tool for artists and designers who want to explore sci-fi themes and cyberpunk aesthetics with a high level of realism and detail.\n"
      ],
      "metadata": {
        "id": "W3nvUXpoIz09"
      }
    },
    {
      "cell_type": "code",
      "source": [
        "!pip install diffusers transformers torch\n",
        "!pip install xformers\n",
        "\n",
        "from diffusers import StableDiffusionPipeline\n",
        "import torch\n",
        "from PIL import Image\n",
        "import IPython.display as display\n",
        "\n",
        "model_id = \"CyberRealistic/cyberrealistic-v1.3\"\n",
        "pipe = StableDiffusionPipeline.from_pretrained(model_id, torch_dtype=torch.float16)\n",
        "pipe = pipe.to(\"cuda\")\n",
        "\n",
        "prompt = \"a detailed futuristic cyberpunk cityscape with neon lights and flying cars at night\"\n",
        "image = pipe(prompt).images[0]\n",
        "\n",
        "image.save(\"generated_image_cyberrealistic.png\")\n",
        "display.display(image)"
      ],
      "metadata": {
        "id": "Qrju-FIqIz9b"
      },
      "execution_count": null,
      "outputs": []
    },
    {
      "cell_type": "markdown",
      "source": [
        "# About Deliberate v2\n",
        "\n",
        "**Deliberate v2** is a high-quality, versatile Stable Diffusion model optimized for producing detailed, realistic visuals across a variety of themes. Known for its balanced approach to realism and stylistic flexibility, Deliberate v2 is widely regarded as one of the top-performing models in the latest Stable Diffusion offerings.\n",
        "\n",
        "### Key Features\n",
        "- **High-Definition Realism and Detail**: Deliberate v2 excels in creating sharp, well-defined images, making it ideal for high-quality portraits, realistic landscapes, and intricate textures.\n",
        "- **Versatile for Multiple Styles**: The model adapts well to both realistic and fantasy themes, handling everything from lifelike portraits to imaginative, stylized scenes.\n",
        "- **Rich Color and Lighting Effects**: With its advanced color handling and lighting effects, Deliberate v2 produces visually engaging images suitable for both natural and dramatic scenes.\n",
        "\n",
        "### Use Cases\n",
        "Deliberate v2 is well-suited for applications that require high-quality, versatile images, including:\n",
        "- **Portraits and Character Art**: Perfect for creating detailed, lifelike portraits with a high level of realism and texture.\n",
        "- **Fantasy and Concept Art**: Great for producing fantasy characters, elaborate landscapes, and creative scenes with an artistic flair.\n",
        "- **Professional Digital Art**: Ideal for artists and designers who need high-definition images for portfolios, illustrations, and concept design.\n",
        "\n",
        "Deliberate v2 provides artists, designers, and enthusiasts with a robust tool for creating high-quality visuals that blend realism and creative imagination, making it a top choice for diverse digital art projects.\n"
      ],
      "metadata": {
        "id": "G2UjAssFJBwL"
      }
    },
    {
      "cell_type": "code",
      "source": [
        "!pip install diffusers transformers torch\n",
        "!pip install xformers\n",
        "\n",
        "from diffusers import StableDiffusionPipeline\n",
        "import torch\n",
        "from PIL import Image\n",
        "import IPython.display as display\n",
        "\n",
        "model_id = \"XpucT/Deliberate\"\n",
        "pipe = StableDiffusionPipeline.from_pretrained(model_id, torch_dtype=torch.float16)\n",
        "pipe = pipe.to(\"cuda\")\n",
        "\n",
        "prompt = \"a high-definition portrait of a fantasy warrior princess, wearing detailed armor and a flowing cape, with a dramatic sunset in the background\"\n",
        "image = pipe(prompt).images[0]\n",
        "\n",
        "image.save(\"generated_image_deliberate_v2.png\")\n",
        "display.display(image)"
      ],
      "metadata": {
        "id": "JK0mjZonJB4I"
      },
      "execution_count": null,
      "outputs": []
    }
  ]
}